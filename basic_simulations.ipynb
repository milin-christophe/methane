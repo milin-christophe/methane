{
 "cells": [
  {
   "cell_type": "markdown",
   "metadata": {},
   "source": [
    "# CO2, CH4 and N2O emissions pathways"
   ]
  },
  {
   "cell_type": "code",
   "execution_count": 1,
   "metadata": {},
   "outputs": [
    {
     "name": "stdout",
     "output_type": "stream",
     "text": [
      "Populating the interactive namespace from numpy and matplotlib\n"
     ]
    }
   ],
   "source": [
    "# Import required Python modules\n",
    "%pylab inline\n",
    "import seaborn as sns"
   ]
  },
  {
   "cell_type": "markdown",
   "metadata": {},
   "source": [
    "Initialize years vector from 2000 to 2100 with 10-years intervals (11 values)"
   ]
  },
  {
   "cell_type": "code",
   "execution_count": 2,
   "metadata": {
    "collapsed": true
   },
   "outputs": [],
   "source": [
    "years = np.linspace(2000, 2100, 11)"
   ]
  },
  {
   "cell_type": "markdown",
   "metadata": {},
   "source": [
    "Create emissions pathways (physical quantities, in million tons)  \n",
    "\n",
    "*Decadal mean values (i.e. 2010 = average of 2005–2014)?*"
   ]
  },
  {
   "cell_type": "code",
   "execution_count": 3,
   "metadata": {
    "collapsed": true
   },
   "outputs": [],
   "source": [
    "data_CO2 = np.linspace(30000,0,11)        # CO2 emissions stop in 2100\n",
    "data_CH4 = np.linspace(300, 300*0.5, 11)  # CH4 emissions reduced by half in 2100\n",
    "data_N2O = np.linspace(12, 12*2/3, 11)    # N2O emissions reduced by a third in 2100"
   ]
  },
  {
   "cell_type": "markdown",
   "metadata": {},
   "source": [
    "# Convert emissions in tCO2eq"
   ]
  },
  {
   "cell_type": "markdown",
   "metadata": {},
   "source": [
    "### Convert CH4 emissions"
   ]
  },
  {
   "cell_type": "markdown",
   "metadata": {},
   "source": [
    "Import GWP CH4 abacus for conversion"
   ]
  },
  {
   "cell_type": "code",
   "execution_count": 4,
   "metadata": {
    "collapsed": true
   },
   "outputs": [],
   "source": [
    "GWP_CH4_abacus = np.genfromtxt(\"data/GWP_CH4_abacus.csv\", delimiter=\",\")"
   ]
  },
  {
   "cell_type": "markdown",
   "metadata": {},
   "source": [
    "Convert CH4 emissions in million tons CO2 equivalent for time horizon 2100"
   ]
  },
  {
   "cell_type": "code",
   "execution_count": 5,
   "metadata": {
    "collapsed": true
   },
   "outputs": [],
   "source": [
    "data_CH4_tCO2eq = data_CH4 * GWP_CH4_abacus[1:12, 11]"
   ]
  },
  {
   "cell_type": "markdown",
   "metadata": {},
   "source": [
    "Show converted values in MtCO2eq"
   ]
  },
  {
   "cell_type": "code",
   "execution_count": 6,
   "metadata": {},
   "outputs": [
    {
     "data": {
      "text/plain": [
       "array([  8550. ,   8806.5,   9153. ,   9588. ,  10152. ,  10890. ,\n",
       "        11907. ,  13279.5,  15102. ,  17193. ,  17940. ])"
      ]
     },
     "execution_count": 6,
     "metadata": {},
     "output_type": "execute_result"
    }
   ],
   "source": [
    "data_CH4_tCO2eq"
   ]
  },
  {
   "cell_type": "markdown",
   "metadata": {},
   "source": [
    "### Convert N2O emissions"
   ]
  },
  {
   "cell_type": "markdown",
   "metadata": {},
   "source": [
    "Convert N2O emissions in million tons CO2 equivalent for time horizon 2100.  \n",
    "GWP considered constant at 265 over the period."
   ]
  },
  {
   "cell_type": "code",
   "execution_count": 7,
   "metadata": {
    "collapsed": true
   },
   "outputs": [],
   "source": [
    "data_N2O_tCO2eq = data_N2O * 265"
   ]
  },
  {
   "cell_type": "markdown",
   "metadata": {},
   "source": [
    "Show converted values in MtCO2eq"
   ]
  },
  {
   "cell_type": "code",
   "execution_count": 8,
   "metadata": {},
   "outputs": [
    {
     "data": {
      "text/plain": [
       "array([ 3180.,  3074.,  2968.,  2862.,  2756.,  2650.,  2544.,  2438.,\n",
       "        2332.,  2226.,  2120.])"
      ]
     },
     "execution_count": 8,
     "metadata": {},
     "output_type": "execute_result"
    }
   ],
   "source": [
    "data_N2O_tCO2eq"
   ]
  },
  {
   "cell_type": "markdown",
   "metadata": {},
   "source": [
    "### Visualization"
   ]
  },
  {
   "cell_type": "code",
   "execution_count": 9,
   "metadata": {},
   "outputs": [
    {
     "data": {
      "image/png": "[encoded data removed]",
      "text/plain": [
       "<matplotlib.figure.Figure at 0x27ae8434c50>"
      ]
     },
     "metadata": {},
     "output_type": "display_data"
    }
   ],
   "source": [
    "plt.subplot(1,1,1)\n",
    "\n",
    "plt.plot(years, data_CO2, 'r', label='CO2')\n",
    "plt.plot(years, data_CH4_tCO2eq, 'b', label='CH4')\n",
    "plt.plot(years, data_N2O_tCO2eq, 'g', label='N2O')\n",
    "\n",
    "plt.legend(loc=0)\n",
    "plt.ylabel(\"MtCO2eq\")\n",
    "\n",
    "plt.show()"
   ]
  },
  {
   "cell_type": "markdown",
   "metadata": {},
   "source": [
    "# Calculate the corresponding rise in average temperatures"
   ]
  },
  {
   "cell_type": "markdown",
   "metadata": {},
   "source": [
    "Calculate total of GHG emissions by 2100"
   ]
  },
  {
   "cell_type": "code",
   "execution_count": 10,
   "metadata": {},
   "outputs": [
    {
     "name": "stdout",
     "output_type": "stream",
     "text": [
      "The total amount of GHG emitted by 2100 is 2733.97 GtCO2eq\n"
     ]
    }
   ],
   "source": [
    "total_CO2 = (data_CO2[0]*5 + data_CO2[1:9].sum()*10 + data_CO2[10]*5)/1000\n",
    "total_CH4 = (data_CH4_tCO2eq[0]*5 + data_CH4_tCO2eq[1:9].sum()*10 + data_CH4_tCO2eq[10]*5)/1000\n",
    "total_N2O = (data_N2O_tCO2eq[0]*5 + data_N2O_tCO2eq[1:9].sum()*10 + data_N2O_tCO2eq[10]*5)/1000\n",
    "\n",
    "total_GHG = total_CO2 + total_CH4 + total_N2O\n",
    "\n",
    "print(\"The total amount of GHG emitted by 2100 is {0:.2f} GtCO2eq\".format(total_GHG))"
   ]
  },
  {
   "cell_type": "markdown",
   "metadata": {},
   "source": [
    "Corresponding rise in average temperatures"
   ]
  },
  {
   "cell_type": "code",
   "execution_count": 11,
   "metadata": {},
   "outputs": [
    {
     "name": "stdout",
     "output_type": "stream",
     "text": [
      "The corresponding rise in average temperature is 1.21°C\n"
     ]
    }
   ],
   "source": [
    "t_rise = 0.444 * total_GHG / 1000\n",
    "\n",
    "print(\"The corresponding rise in average temperature is {0:.2f}°C\".format(t_rise))"
   ]
  }
 ],
 "metadata": {
  "kernelspec": {
   "display_name": "Python 3",
   "language": "python",
   "name": "python3"
  },
  "language_info": {
   "codemirror_mode": {
    "name": "ipython",
    "version": 3
   },
   "file_extension": ".py",
   "mimetype": "text/x-python",
   "name": "python",
   "nbconvert_exporter": "python",
   "pygments_lexer": "ipython3",
   "version": "3.6.1"
  }
 },
 "nbformat": 4,
 "nbformat_minor": 2
}
